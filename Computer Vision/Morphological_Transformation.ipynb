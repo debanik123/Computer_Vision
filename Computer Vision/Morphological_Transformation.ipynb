{
 "cells": [
  {
   "cell_type": "code",
   "execution_count": 1,
   "metadata": {},
   "outputs": [],
   "source": [
    "#Erosion\n",
    "import cv2\n",
    "import numpy as np\n",
    "img = cv2.imread(\"j.png\",0)\n",
    "kernel = np.ones((5,5),np.uint8)\n",
    "erosion = cv2.erode(img,kernel,iterations=1)\n",
    "cv2.imshow(\"img\",img)\n",
    "cv2.imshow(\"erosion\",erosion)\n",
    "k = cv2.waitKey(0)\n",
    "if k == ord(\"q\"):\n",
    "    cv2.destroyAllWindows()"
   ]
  },
  {
   "cell_type": "code",
   "execution_count": 2,
   "metadata": {},
   "outputs": [],
   "source": [
    "#dilation\n",
    "import cv2\n",
    "import numpy as np\n",
    "img = cv2.imread(\"j.png\",0)\n",
    "kernel = np.ones((5,5),np.uint8)\n",
    "dilation = cv2.dilate(img,kernel,iterations=1)\n",
    "cv2.imshow(\"img\",img)\n",
    "cv2.imshow(\"dilation\",dilation)\n",
    "k = cv2.waitKey(0)\n",
    "if k == ord(\"q\"):\n",
    "    cv2.destroyAllWindows()"
   ]
  },
  {
   "cell_type": "code",
   "execution_count": 3,
   "metadata": {},
   "outputs": [],
   "source": [
    "#opening\n",
    "import cv2\n",
    "import numpy as np\n",
    "img = cv2.imread(\"noisej.jpg\",0)\n",
    "kernel = np.ones((5,5),np.uint8)\n",
    "opening = cv2.morphologyEx(img,cv2.MORPH_OPEN,kernel)\n",
    "cv2.imshow(\"img\",img)\n",
    "cv2.imshow(\"opening\",opening)\n",
    "k = cv2.waitKey(0)\n",
    "if k == ord(\"q\"):\n",
    "    cv2.destroyAllWindows()"
   ]
  },
  {
   "cell_type": "code",
   "execution_count": 4,
   "metadata": {},
   "outputs": [],
   "source": [
    "#closing \n",
    "import cv2\n",
    "import numpy as np\n",
    "img = cv2.imread(\"noisej1.jpg\",0)\n",
    "kernel = np.ones((5,5),np.uint8)\n",
    "closing = cv2.morphologyEx(img,cv2.MORPH_CLOSE,kernel)\n",
    "cv2.imshow(\"img\",img)\n",
    "cv2.imshow(\"closing\",closing)\n",
    "k = cv2.waitKey(0)\n",
    "if k == ord(\"q\"):\n",
    "    cv2.destroyAllWindows()"
   ]
  },
  {
   "cell_type": "code",
   "execution_count": 5,
   "metadata": {},
   "outputs": [],
   "source": [
    "#morphological gradient\n",
    "import cv2\n",
    "import numpy as np\n",
    "img = cv2.imread(\"m_gradient.jpg\",0)\n",
    "kernel = np.ones((5,5),np.uint8)\n",
    "m_gradient = cv2.morphologyEx(img,cv2.MORPH_GRADIENT,kernel)\n",
    "cv2.imshow(\"img\",img)\n",
    "cv2.imshow(\"m_gradient\",m_gradient)\n",
    "k = cv2.waitKey(0)\n",
    "if k == ord(\"q\"):\n",
    "    cv2.destroyAllWindows()"
   ]
  },
  {
   "cell_type": "code",
   "execution_count": 7,
   "metadata": {},
   "outputs": [],
   "source": [
    "#top_hat\n",
    "#opening\n",
    "import cv2\n",
    "import numpy as np\n",
    "img = cv2.imread(\"tophat.jpg\",0)\n",
    "kernel = np.ones((9,9),np.uint8)\n",
    "tophat = cv2.morphologyEx(img,cv2.MORPH_TOPHAT,kernel)\n",
    "cv2.imshow(\"img\",img)\n",
    "cv2.imshow(\"opening\",tophat)\n",
    "k = cv2.waitKey(0)\n",
    "if k == ord(\"q\"):\n",
    "    cv2.destroyAllWindows()"
   ]
  },
  {
   "cell_type": "code",
   "execution_count": 8,
   "metadata": {},
   "outputs": [],
   "source": [
    "#black_hat\n",
    "import cv2\n",
    "import numpy as np\n",
    "img = cv2.imread(\"blackhat.jpg\",0)\n",
    "kernel = np.ones((5,5),np.uint8)\n",
    "black_hat = cv2.morphologyEx(img,cv2.MORPH_BLACKHAT,kernel)\n",
    "cv2.imshow(\"img\",img)\n",
    "cv2.imshow(\"opening\",black_hat)\n",
    "k = cv2.waitKey(0)\n",
    "if k == ord(\"q\"):\n",
    "    cv2.destroyAllWindows()"
   ]
  },
  {
   "cell_type": "code",
   "execution_count": 9,
   "metadata": {},
   "outputs": [
    {
     "data": {
      "text/plain": [
       "array([[1, 1, 1, 1, 1],\n",
       "       [1, 1, 1, 1, 1],\n",
       "       [1, 1, 1, 1, 1],\n",
       "       [1, 1, 1, 1, 1],\n",
       "       [1, 1, 1, 1, 1]], dtype=uint8)"
      ]
     },
     "execution_count": 9,
     "metadata": {},
     "output_type": "execute_result"
    }
   ],
   "source": [
    "cv2.getStructuringElement(cv2.MORPH_RECT,(5,5))"
   ]
  },
  {
   "cell_type": "code",
   "execution_count": 10,
   "metadata": {},
   "outputs": [
    {
     "data": {
      "text/plain": [
       "array([[0, 0, 1, 0, 0],\n",
       "       [1, 1, 1, 1, 1],\n",
       "       [1, 1, 1, 1, 1],\n",
       "       [1, 1, 1, 1, 1],\n",
       "       [0, 0, 1, 0, 0]], dtype=uint8)"
      ]
     },
     "execution_count": 10,
     "metadata": {},
     "output_type": "execute_result"
    }
   ],
   "source": [
    "cv2.getStructuringElement(cv2.MORPH_ELLIPSE,(5,5))"
   ]
  },
  {
   "cell_type": "code",
   "execution_count": 11,
   "metadata": {},
   "outputs": [
    {
     "data": {
      "text/plain": [
       "array([[0, 0, 1, 0, 0],\n",
       "       [0, 0, 1, 0, 0],\n",
       "       [1, 1, 1, 1, 1],\n",
       "       [0, 0, 1, 0, 0],\n",
       "       [0, 0, 1, 0, 0]], dtype=uint8)"
      ]
     },
     "execution_count": 11,
     "metadata": {},
     "output_type": "execute_result"
    }
   ],
   "source": [
    "cv2.getStructuringElement(cv2.MORPH_CROSS,(5,5))"
   ]
  },
  {
   "cell_type": "code",
   "execution_count": null,
   "metadata": {},
   "outputs": [],
   "source": []
  }
 ],
 "metadata": {
  "kernelspec": {
   "display_name": "Python 3",
   "language": "python",
   "name": "python3"
  },
  "language_info": {
   "codemirror_mode": {
    "name": "ipython",
    "version": 3
   },
   "file_extension": ".py",
   "mimetype": "text/x-python",
   "name": "python",
   "nbconvert_exporter": "python",
   "pygments_lexer": "ipython3",
   "version": "3.7.1"
  }
 },
 "nbformat": 4,
 "nbformat_minor": 2
}
