{
 "cells": [
  {
   "cell_type": "code",
   "execution_count": 5,
   "metadata": {},
   "outputs": [
    {
     "name": "stdout",
     "output_type": "stream",
     "text": [
      "(450, 800, 3)\n"
     ]
    }
   ],
   "source": [
    "#simple thresholding \n",
    "import cv2\n",
    "import numpy as np\n",
    "import matplotlib.pyplot as plt \n",
    "\n",
    "img = cv2.imread(\"bookpage.jpg\") #convert into grapy scale\n",
    "print(img.shape)\n",
    "ret,thresh  = cv2.threshold(img,10,255,cv2.THRESH_BINARY)\n",
    "cv2.imshow(\"img\",img)\n",
    "cv2.imshow(\"thresh\",thresh)\n",
    "k = cv2.waitKey(0) & 0xFF\n",
    "if k == ord(\"q\"):\n",
    "    cv2.destroyAllWindows()\n"
   ]
  },
  {
   "cell_type": "code",
   "execution_count": 6,
   "metadata": {},
   "outputs": [
    {
     "name": "stdout",
     "output_type": "stream",
     "text": [
      "(450, 800, 3)\n"
     ]
    }
   ],
   "source": [
    "import cv2\n",
    "import numpy as np\n",
    "import matplotlib.pyplot as plt \n",
    "\n",
    "img = cv2.imread(\"bookpage.jpg\") #convert into grapy scale\n",
    "print(img.shape)\n",
    "gray = cv2.cvtColor(img,cv2.COLOR_BGR2GRAY)\n",
    "ret,thresh  = cv2.threshold(gray,10,255,cv2.THRESH_BINARY)\n",
    "cv2.imshow(\"img\",img)\n",
    "cv2.imshow(\"gray\",gray)\n",
    "cv2.imshow(\"thresh\",thresh)\n",
    "k = cv2.waitKey(0) & 0xFF\n",
    "if k == ord(\"q\"):\n",
    "    cv2.destroyAllWindows()\n"
   ]
  },
  {
   "cell_type": "code",
   "execution_count": 9,
   "metadata": {},
   "outputs": [],
   "source": [
    "#adaptive thresholding \n",
    "import cv2\n",
    "import numpy as np\n",
    "import matplotlib.pyplot as plt \n",
    "img = cv2.imread(\"bookpage.jpg\")\n",
    "gray = cv2.cvtColor(img,cv2.COLOR_BGR2GRAY)\n",
    "th = cv2.adaptiveThreshold(gray,255,cv2.ADAPTIVE_THRESH_GAUSSIAN_C,cv2.THRESH_BINARY,115,1)\n",
    "cv2.imshow(\"img\",img)\n",
    "cv2.imshow(\"gray\",gray)\n",
    "cv2.imshow(\"th\",th)\n",
    "k = cv2.waitKey(0) & 0xFF\n",
    "if k == ord(\"q\"):\n",
    "    cv2.destroyAllWindows()\n"
   ]
  },
  {
   "cell_type": "code",
   "execution_count": 10,
   "metadata": {},
   "outputs": [],
   "source": [
    "# modified simple thresholding\n",
    "import cv2\n",
    "import numpy as np\n",
    "import matplotlib.pyplot as plt \n",
    "img = cv2.imread(\"bookpage.jpg\")\n",
    "gray = cv2.cvtColor(img,cv2.COLOR_BGR2GRAY)\n",
    "\n",
    "ret2,th2 = cv2.threshold(gray,125,255,cv2.THRESH_BINARY+cv2.THRESH_OTSU)\n",
    "cv2.imshow(\"img\",img)\n",
    "cv2.imshow(\"gray\",gray)\n",
    "cv2.imshow(\"th\",th2)\n",
    "k = cv2.waitKey(0) & 0xFF\n",
    "if k == ord(\"q\"):\n",
    "    cv2.destroyAllWindows()"
   ]
  },
  {
   "cell_type": "code",
   "execution_count": null,
   "metadata": {},
   "outputs": [],
   "source": []
  }
 ],
 "metadata": {
  "kernelspec": {
   "display_name": "Python 3",
   "language": "python",
   "name": "python3"
  },
  "language_info": {
   "codemirror_mode": {
    "name": "ipython",
    "version": 3
   },
   "file_extension": ".py",
   "mimetype": "text/x-python",
   "name": "python",
   "nbconvert_exporter": "python",
   "pygments_lexer": "ipython3",
   "version": "3.7.1"
  }
 },
 "nbformat": 4,
 "nbformat_minor": 2
}
