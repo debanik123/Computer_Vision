{
 "cells": [
  {
   "cell_type": "code",
   "execution_count": 1,
   "metadata": {},
   "outputs": [],
   "source": [
    "import cv2\n",
    "import numpy as np\n",
    "\n"
   ]
  },
  {
   "cell_type": "code",
   "execution_count": 8,
   "metadata": {},
   "outputs": [
    {
     "name": "stdout",
     "output_type": "stream",
     "text": [
      "(342, 548, 3)\n",
      "(684, 1096, 3)\n"
     ]
    }
   ],
   "source": [
    "img = cv2.imread(\"messi5.jpg\")\n",
    "res = cv2.resize(img,None,fx=2,fy=2,interpolation = cv2.INTER_CUBIC) \n",
    "cv2.imshow(\"img\",img)\n",
    "print(img.shape)\n",
    "cv2.imshow(\"res\",res)\n",
    "print(res.shape)\n",
    "k = cv2.waitKey(0) & 0xFF\n",
    "if k == ord(\"q\"):\n",
    "    cv2.destroyAllWindows()"
   ]
  },
  {
   "cell_type": "code",
   "execution_count": 9,
   "metadata": {},
   "outputs": [
    {
     "name": "stdout",
     "output_type": "stream",
     "text": [
      "(342, 548, 3)\n",
      "(342, 1096, 3)\n"
     ]
    }
   ],
   "source": [
    "img = cv2.imread(\"messi5.jpg\")\n",
    "res = cv2.resize(img,None,fx=2,fy=1,interpolation = cv2.INTER_CUBIC) \n",
    "cv2.imshow(\"img\",img)\n",
    "print(img.shape)\n",
    "cv2.imshow(\"res\",res)\n",
    "print(res.shape)\n",
    "k = cv2.waitKey(0) & 0xFF\n",
    "if k == ord(\"q\"):\n",
    "    cv2.destroyAllWindows()"
   ]
  },
  {
   "cell_type": "code",
   "execution_count": 10,
   "metadata": {},
   "outputs": [
    {
     "name": "stdout",
     "output_type": "stream",
     "text": [
      "(342, 548, 3)\n",
      "(684, 548, 3)\n"
     ]
    }
   ],
   "source": [
    "img = cv2.imread(\"messi5.jpg\")\n",
    "res = cv2.resize(img,None,fx=1,fy=2,interpolation = cv2.INTER_CUBIC) \n",
    "cv2.imshow(\"img\",img)\n",
    "print(img.shape)\n",
    "cv2.imshow(\"res\",res)\n",
    "print(res.shape)\n",
    "k = cv2.waitKey(0) & 0xFF\n",
    "if k == ord(\"q\"):\n",
    "    cv2.destroyAllWindows()"
   ]
  },
  {
   "cell_type": "code",
   "execution_count": 11,
   "metadata": {},
   "outputs": [],
   "source": [
    "hight,width = img.shape[:2]"
   ]
  },
  {
   "cell_type": "code",
   "execution_count": 12,
   "metadata": {},
   "outputs": [
    {
     "data": {
      "text/plain": [
       "342"
      ]
     },
     "execution_count": 12,
     "metadata": {},
     "output_type": "execute_result"
    }
   ],
   "source": [
    "hight "
   ]
  },
  {
   "cell_type": "code",
   "execution_count": 13,
   "metadata": {},
   "outputs": [
    {
     "data": {
      "text/plain": [
       "548"
      ]
     },
     "execution_count": 13,
     "metadata": {},
     "output_type": "execute_result"
    }
   ],
   "source": [
    "width"
   ]
  },
  {
   "cell_type": "code",
   "execution_count": 14,
   "metadata": {},
   "outputs": [
    {
     "name": "stdout",
     "output_type": "stream",
     "text": [
      "(342, 548, 3)\n",
      "(684, 1096, 3)\n"
     ]
    }
   ],
   "source": [
    "res = cv2.resize(img,(2*width,2*hight),interpolation = cv2.INTER_CUBIC)\n",
    "cv2.imshow(\"img\",img)\n",
    "print(img.shape)\n",
    "cv2.imshow(\"res\",res)\n",
    "print(res.shape)\n",
    "k = cv2.waitKey(0) & 0xFF\n",
    "if k == ord(\"q\"):\n",
    "    cv2.destroyAllWindows()"
   ]
  },
  {
   "cell_type": "code",
   "execution_count": null,
   "metadata": {},
   "outputs": [],
   "source": []
  }
 ],
 "metadata": {
  "kernelspec": {
   "display_name": "Python 3",
   "language": "python",
   "name": "python3"
  },
  "language_info": {
   "codemirror_mode": {
    "name": "ipython",
    "version": 3
   },
   "file_extension": ".py",
   "mimetype": "text/x-python",
   "name": "python",
   "nbconvert_exporter": "python",
   "pygments_lexer": "ipython3",
   "version": "3.7.1"
  }
 },
 "nbformat": 4,
 "nbformat_minor": 2
}
