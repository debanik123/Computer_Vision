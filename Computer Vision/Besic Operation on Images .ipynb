{
 "cells": [
  {
   "cell_type": "code",
   "execution_count": 1,
   "metadata": {},
   "outputs": [],
   "source": [
    "import cv2\n",
    "import numpy as np\n",
    "img = cv2.imread(\"messi5.jpg\")"
   ]
  },
  {
   "cell_type": "code",
   "execution_count": 2,
   "metadata": {},
   "outputs": [
    {
     "name": "stdout",
     "output_type": "stream",
     "text": [
      "[157 166 200]\n"
     ]
    }
   ],
   "source": [
    "px = img[100,100]\n",
    "print(px)"
   ]
  },
  {
   "cell_type": "code",
   "execution_count": 3,
   "metadata": {},
   "outputs": [
    {
     "name": "stdout",
     "output_type": "stream",
     "text": [
      "157\n"
     ]
    }
   ],
   "source": [
    "blue = img[100,100,0]\n",
    "print(blue)"
   ]
  },
  {
   "cell_type": "code",
   "execution_count": 6,
   "metadata": {},
   "outputs": [
    {
     "name": "stdout",
     "output_type": "stream",
     "text": [
      "[255 255 255]\n"
     ]
    }
   ],
   "source": [
    "img[100,100] = [255, 255, 255]\n",
    "print(img[100,100])"
   ]
  },
  {
   "cell_type": "code",
   "execution_count": 7,
   "metadata": {},
   "outputs": [
    {
     "data": {
      "text/plain": [
       "59"
      ]
     },
     "execution_count": 7,
     "metadata": {},
     "output_type": "execute_result"
    }
   ],
   "source": [
    "img.item(10,10,2)"
   ]
  },
  {
   "cell_type": "code",
   "execution_count": 8,
   "metadata": {},
   "outputs": [
    {
     "data": {
      "text/plain": [
       "100"
      ]
     },
     "execution_count": 8,
     "metadata": {},
     "output_type": "execute_result"
    }
   ],
   "source": [
    "img.itemset((10,10,2),100)\n",
    "img.item(10,10,2)"
   ]
  },
  {
   "cell_type": "code",
   "execution_count": 9,
   "metadata": {},
   "outputs": [
    {
     "name": "stdout",
     "output_type": "stream",
     "text": [
      "(342, 548, 3)\n"
     ]
    }
   ],
   "source": [
    "print(img.shape)"
   ]
  },
  {
   "cell_type": "code",
   "execution_count": 10,
   "metadata": {},
   "outputs": [
    {
     "name": "stdout",
     "output_type": "stream",
     "text": [
      "562248\n"
     ]
    }
   ],
   "source": [
    "print(img.size)"
   ]
  },
  {
   "cell_type": "code",
   "execution_count": 11,
   "metadata": {},
   "outputs": [
    {
     "name": "stdout",
     "output_type": "stream",
     "text": [
      "uint8\n"
     ]
    }
   ],
   "source": [
    "print(img.dtype)"
   ]
  },
  {
   "cell_type": "code",
   "execution_count": 12,
   "metadata": {},
   "outputs": [],
   "source": [
    "ball = img[280:340, 330:390]\n",
    "img[273:333, 100:160] = ball"
   ]
  },
  {
   "cell_type": "code",
   "execution_count": 13,
   "metadata": {},
   "outputs": [
    {
     "name": "stdout",
     "output_type": "stream",
     "text": [
      "[[[ 57 147 101]\n",
      "  [ 55 147 100]\n",
      "  [ 56 147 102]\n",
      "  ...\n",
      "  [ 54 147 102]\n",
      "  [ 56 147 102]\n",
      "  [ 55 146 101]]\n",
      "\n",
      " [[ 64 149 104]\n",
      "  [ 61 149 103]\n",
      "  [ 59 148 104]\n",
      "  ...\n",
      "  [ 54 147 102]\n",
      "  [ 56 147 102]\n",
      "  [ 55 146 101]]\n",
      "\n",
      " [[ 60 149 105]\n",
      "  [ 61 150 106]\n",
      "  [ 61 150 106]\n",
      "  ...\n",
      "  [ 57 148 103]\n",
      "  [ 57 148 103]\n",
      "  [ 57 148 103]]\n",
      "\n",
      " ...\n",
      "\n",
      " [[ 51 127  86]\n",
      "  [ 63 141 100]\n",
      "  [ 43 122  81]\n",
      "  ...\n",
      "  [ 40 116  74]\n",
      "  [ 44 118  76]\n",
      "  [ 62 136  94]]\n",
      "\n",
      " [[ 38 116  75]\n",
      "  [ 56 135  94]\n",
      "  [ 50 129  88]\n",
      "  ...\n",
      "  [ 57 137  94]\n",
      "  [ 73 151 110]\n",
      "  [ 66 144 103]]\n",
      "\n",
      " [[ 83 161 120]\n",
      "  [ 64 146 104]\n",
      "  [ 78 160 118]\n",
      "  ...\n",
      "  [ 60 145 101]\n",
      "  [ 57 139  97]\n",
      "  [ 56 135  94]]]\n"
     ]
    }
   ],
   "source": [
    "print(img[273:333, 100:160])"
   ]
  },
  {
   "cell_type": "code",
   "execution_count": 14,
   "metadata": {},
   "outputs": [],
   "source": [
    "b, g, r= cv2.split(img)\n",
    "img = cv2.merge((b,g,r))"
   ]
  },
  {
   "cell_type": "code",
   "execution_count": 15,
   "metadata": {},
   "outputs": [
    {
     "data": {
      "text/plain": [
       "array([[[ 39,  43,  44],\n",
       "        [ 42,  46,  47],\n",
       "        [ 44,  47,  52],\n",
       "        ...,\n",
       "        [ 57,  55,  55],\n",
       "        [ 55,  53,  53],\n",
       "        [ 52,  50,  50]],\n",
       "\n",
       "       [[ 37,  40,  44],\n",
       "        [ 42,  45,  49],\n",
       "        [ 46,  49,  54],\n",
       "        ...,\n",
       "        [ 62,  60,  60],\n",
       "        [ 60,  58,  58],\n",
       "        [ 57,  55,  55]],\n",
       "\n",
       "       [[ 41,  45,  50],\n",
       "        [ 46,  50,  55],\n",
       "        [ 51,  55,  60],\n",
       "        ...,\n",
       "        [ 64,  63,  65],\n",
       "        [ 63,  62,  64],\n",
       "        [ 60,  59,  61]],\n",
       "\n",
       "       ...,\n",
       "\n",
       "       [[ 56, 143,  99],\n",
       "        [ 48, 133,  89],\n",
       "        [ 49, 129,  86],\n",
       "        ...,\n",
       "        [ 60, 134,  92],\n",
       "        [ 63, 134,  94],\n",
       "        [ 73, 145, 103]],\n",
       "\n",
       "       [[ 54, 138,  96],\n",
       "        [ 59, 141,  99],\n",
       "        [ 50, 130,  87],\n",
       "        ...,\n",
       "        [ 56, 132,  91],\n",
       "        [ 69, 142, 104],\n",
       "        [ 64, 137,  97]],\n",
       "\n",
       "       [[ 45, 129,  87],\n",
       "        [ 58, 140,  98],\n",
       "        [ 71, 151, 108],\n",
       "        ...,\n",
       "        [ 49, 124,  86],\n",
       "        [ 52, 125,  87],\n",
       "        [ 51, 124,  86]]], dtype=uint8)"
      ]
     },
     "execution_count": 15,
     "metadata": {},
     "output_type": "execute_result"
    }
   ],
   "source": [
    "img"
   ]
  },
  {
   "cell_type": "code",
   "execution_count": 16,
   "metadata": {},
   "outputs": [],
   "source": [
    "b = img[:,:,0]"
   ]
  },
  {
   "cell_type": "code",
   "execution_count": 17,
   "metadata": {},
   "outputs": [
    {
     "data": {
      "text/plain": [
       "array([[39, 42, 44, ..., 57, 55, 52],\n",
       "       [37, 42, 46, ..., 62, 60, 57],\n",
       "       [41, 46, 51, ..., 64, 63, 60],\n",
       "       ...,\n",
       "       [56, 48, 49, ..., 60, 63, 73],\n",
       "       [54, 59, 50, ..., 56, 69, 64],\n",
       "       [45, 58, 71, ..., 49, 52, 51]], dtype=uint8)"
      ]
     },
     "execution_count": 17,
     "metadata": {},
     "output_type": "execute_result"
    }
   ],
   "source": [
    "b"
   ]
  },
  {
   "cell_type": "code",
   "execution_count": 18,
   "metadata": {},
   "outputs": [],
   "source": [
    "img[:,:,2] = 0"
   ]
  },
  {
   "cell_type": "code",
   "execution_count": null,
   "metadata": {},
   "outputs": [],
   "source": []
  }
 ],
 "metadata": {
  "kernelspec": {
   "display_name": "Python 3",
   "language": "python",
   "name": "python3"
  },
  "language_info": {
   "codemirror_mode": {
    "name": "ipython",
    "version": 3
   },
   "file_extension": ".py",
   "mimetype": "text/x-python",
   "name": "python",
   "nbconvert_exporter": "python",
   "pygments_lexer": "ipython3",
   "version": "3.7.1"
  }
 },
 "nbformat": 4,
 "nbformat_minor": 2
}
