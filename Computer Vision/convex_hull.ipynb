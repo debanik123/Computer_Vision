{
 "cells": [
  {
   "cell_type": "code",
   "execution_count": 3,
   "metadata": {},
   "outputs": [],
   "source": [
    "import cv2\n",
    "import numpy as np\n",
    "hand = cv2.imread(\"hand.jpg\",0)\n",
    "ret,threshold = cv2.threshold(hand,220,255,cv2.THRESH_BINARY)\n",
    "contours,hiearchy = cv2.findContours(threshold,cv2.RETR_TREE,cv2.CHAIN_APPROX_SIMPLE)"
   ]
  },
  {
   "cell_type": "code",
   "execution_count": 4,
   "metadata": {},
   "outputs": [],
   "source": [
    "hull = [cv2.convexHull(c) for c in contours]\n",
    "final = cv2.drawContours(hand,hull,-10,(255,255,255))"
   ]
  },
  {
   "cell_type": "code",
   "execution_count": 5,
   "metadata": {},
   "outputs": [],
   "source": [
    "cv2.imshow(\"hand\",hand)\n",
    "cv2.imshow(\"threshold\",threshold)\n",
    "cv2.imshow(\"hand\",hand)\n",
    "k = cv2.waitKey(0) & 0xFF\n",
    "if k == ord(\"q\"):\n",
    "    cv2.destroyAllWindows()"
   ]
  },
  {
   "cell_type": "code",
   "execution_count": 6,
   "metadata": {},
   "outputs": [],
   "source": [
    "import numpy as np\n",
    "import cv2\n",
    "\n",
    "cap = cv2.VideoCapture(0)\n",
    "while(True):\n",
    "    ret,frame = cap.read()\n",
    "    imgray = cv2.cvtColor(frame,cv2.COLOR_BGR2GRAY)\n",
    "    ret,thresh = cv2.threshold(imgray,120,255,cv2.THRESH_BINARY)\n",
    "    contours, hierarchy = cv2.findContours(thresh,cv2.RETR_TREE,cv2.CHAIN_APPROX_SIMPLE)\n",
    "    hull = [cv2.convexHull(c) for c in contours]\n",
    "    final = cv2.drawContours(imgray,hull,-10,(255,255,255))\n",
    "    cv2.imshow(\"frame\",frame)\n",
    "    cv2.imshow(\"threshold\",thresh)\n",
    "    cv2.imshow(\"imgray\",imgray)\n",
    "    cv2.drawContours(frame,contours,-1,(0,255,0),3)\n",
    "    if cv2.waitKey(1) & 0xFF == ord(\"q\"):\n",
    "        break\n",
    "# When everything done, release the capture         \n",
    "cap.release()\n",
    "cv2.destroyAllWindows()"
   ]
  },
  {
   "cell_type": "code",
   "execution_count": null,
   "metadata": {},
   "outputs": [],
   "source": []
  }
 ],
 "metadata": {
  "kernelspec": {
   "display_name": "Python 3",
   "language": "python",
   "name": "python3"
  },
  "language_info": {
   "codemirror_mode": {
    "name": "ipython",
    "version": 3
   },
   "file_extension": ".py",
   "mimetype": "text/x-python",
   "name": "python",
   "nbconvert_exporter": "python",
   "pygments_lexer": "ipython3",
   "version": "3.7.1"
  }
 },
 "nbformat": 4,
 "nbformat_minor": 2
}
